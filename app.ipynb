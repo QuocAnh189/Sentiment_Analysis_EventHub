{
 "cells": [
  {
   "cell_type": "code",
   "execution_count": 1,
   "metadata": {},
   "outputs": [],
   "source": [
    "from flask import Flask, render_template, request, url_for\n",
    "import pickle \n",
    "from keras.preprocessing.sequence import pad_sequences\n",
    "from keras.models import Sequential, load_model\n",
    "from keras.layers import Dense, Embedding, GRU, LSTM\n",
    "from keras.optimizers import Adam\n",
    "from tensorflow.keras.preprocessing.text import Tokenizer\n"
   ]
  },
  {
   "cell_type": "code",
   "execution_count": null,
   "metadata": {},
   "outputs": [],
   "source": [
    "model = load_model(\"model/Model.h5\")\n",
    "with open('tokenize.pickle', 'rb') as handle:\n",
    "    tokenizer = pickle.load(handle)\n",
    "\n",
    "app = Flask(__name__)\n",
    "@app.route('/')\n",
    "def main():\n",
    "    return render_template(\"Home.html\")\n",
    "\n",
    "@app.route('/predict', methods = ['POST'])\n",
    "def classify():\n",
    "    text = request.form[\"text\"]\n",
    "    text_list = [text]\n",
    "    text_token = tokenizer.texts_to_sequences(text_list)\n",
    "    text_pad = pad_sequences(text_token, maxlen = 241, padding = 'pre')\n",
    "    pred = model.predict(text_pad)\n",
    "    if pred[0][0] > 0.5:\n",
    "        result = \"Positive Review!\"\n",
    "        per = round((pred[0][0])*100 , 2)\n",
    "    else:\n",
    "        result = 'Negative Review! '\n",
    "        per = round((pred[0][0])*100,2) \n",
    "    return render_template(\"home.html\",res = per, answer = result)\n",
    "\n",
    "if __name__ == \"__main__\":\n",
    "    app.run(debug=True,use_reloader=False)"
   ]
  },
  {
   "cell_type": "code",
   "execution_count": null,
   "metadata": {},
   "outputs": [],
   "source": []
  }
 ],
 "metadata": {
  "kernelspec": {
   "display_name": "Python 3",
   "language": "python",
   "name": "python3"
  },
  "language_info": {
   "codemirror_mode": {
    "name": "ipython",
    "version": 3
   },
   "file_extension": ".py",
   "mimetype": "text/x-python",
   "name": "python",
   "nbconvert_exporter": "python",
   "pygments_lexer": "ipython3",
   "version": "3.8.10"
  }
 },
 "nbformat": 4,
 "nbformat_minor": 4
}
